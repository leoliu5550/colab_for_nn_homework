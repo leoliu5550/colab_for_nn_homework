{
  "nbformat": 4,
  "nbformat_minor": 0,
  "metadata": {
    "colab": {
      "name": "BATCH_train",
      "provenance": [],
      "collapsed_sections": [],
      "toc_visible": true,
      "authorship_tag": "ABX9TyMGwdBYphoz2LNzsMNQ0yV1",
      "include_colab_link": true
    },
    "kernelspec": {
      "name": "python3",
      "display_name": "Python 3"
    }
  },
  "cells": [
    {
      "cell_type": "markdown",
      "metadata": {
        "id": "view-in-github",
        "colab_type": "text"
      },
      "source": [
        "<a href=\"https://colab.research.google.com/github/leoliu5550/colab_for_nn_homework/blob/master/BATCH_train.ipynb\" target=\"_parent\"><img src=\"https://colab.research.google.com/assets/colab-badge.svg\" alt=\"Open In Colab\"/></a>"
      ]
    },
    {
      "cell_type": "markdown",
      "metadata": {
        "id": "14oCwXIgDe9O",
        "colab_type": "text"
      },
      "source": [
        "# 批訓練\n",
        "目的：提升訓練模型的效率\n",
        "\n",
        "[來源解釋](https://ithelp.ithome.com.tw/articles/10219945)"
      ]
    },
    {
      "cell_type": "markdown",
      "metadata": {
        "id": "UjO51TTzEdSm",
        "colab_type": "text"
      },
      "source": [
        "\n",
        "\n",
        "1.   Epoch(一代訓練) ：使用訓練資料集的全部數據進行一次訓練\n",
        "2.   Batch(一批數據) ：使用訓練資料集的一小部分對模型進行一次反向更新\n",
        "3.   Iteration(一次訓練)  ：使用一個Batch的數據進行一次參數更新的過程\n",
        "\n",
        "\n",
        "\n"
      ]
    },
    {
      "cell_type": "code",
      "metadata": {
        "id": "1c8MlGERNfkm",
        "colab_type": "code",
        "colab": {}
      },
      "source": [
        "import torch\n",
        "import torch.utils.data as Data"
      ],
      "execution_count": 1,
      "outputs": []
    },
    {
      "cell_type": "markdown",
      "metadata": {
        "id": "eDKn84rhOi8-",
        "colab_type": "text"
      },
      "source": [
        "## Batch = 5 每次只取5筆資料進行更新"
      ]
    },
    {
      "cell_type": "code",
      "metadata": {
        "id": "65yW-vvJNvT5",
        "colab_type": "code",
        "colab": {}
      },
      "source": [
        "BATCH_SIZE=5"
      ],
      "execution_count": 2,
      "outputs": []
    },
    {
      "cell_type": "markdown",
      "metadata": {
        "id": "oWqAacDESKuQ",
        "colab_type": "text"
      },
      "source": [
        "## 建立數據"
      ]
    },
    {
      "cell_type": "code",
      "metadata": {
        "id": "I2aEQxtNO0dY",
        "colab_type": "code",
        "colab": {}
      },
      "source": [
        "x = torch.unsqueeze(torch.linspace(-1, 1, 100), dim=1)  # x data (tensor), shape=(100, 1)\n",
        "y = x.pow(2) + 0.2*torch.rand(x.size())  # noisy y data (tensor), shape=(100, 1)\n"
      ],
      "execution_count": 16,
      "outputs": []
    },
    {
      "cell_type": "markdown",
      "metadata": {
        "id": "lXQx4bQWTH6z",
        "colab_type": "text"
      },
      "source": [
        "## 資料放入Batch中\n",
        "[詳細參數設定](https://zhuanlan.zhihu.com/p/117270644)"
      ]
    },
    {
      "cell_type": "code",
      "metadata": {
        "id": "2e48NGy8TGCT",
        "colab_type": "code",
        "colab": {}
      },
      "source": [
        "torch_dataset = Data.TensorDataset(x, y)\n",
        "loader = Data.DataLoader(\n",
        "    dataset=torch_dataset,      # torch TensorDataset format\n",
        "    batch_size=BATCH_SIZE,      # mini batch size\n",
        "    shuffle=True,           # random shuffle for training\n",
        "    num_workers=2,          # subprocesses for loading data 提取出數據時，是用兩個進程來提取\n",
        ")"
      ],
      "execution_count": 17,
      "outputs": []
    },
    {
      "cell_type": "markdown",
      "metadata": {
        "id": "eVOkV_6MSYlA",
        "colab_type": "text"
      },
      "source": [
        "# 建立神經網路"
      ]
    },
    {
      "cell_type": "code",
      "metadata": {
        "id": "n96xLg-hSXtB",
        "colab_type": "code",
        "colab": {}
      },
      "source": [
        "net1 = torch.nn.Sequential(\n",
        "    torch.nn.Linear(1,10),\n",
        "    torch.nn.ReLU(),\n",
        "    torch.nn.Linear(10,1)\n",
        ")"
      ],
      "execution_count": 18,
      "outputs": []
    },
    {
      "cell_type": "markdown",
      "metadata": {
        "id": "d3P6Yw8wX-dl",
        "colab_type": "text"
      },
      "source": [
        "# 訓練神經網路"
      ]
    },
    {
      "cell_type": "code",
      "metadata": {
        "id": "IxQb_U_7X-ML",
        "colab_type": "code",
        "colab": {}
      },
      "source": [
        "optimizer = torch.optim.SGD(net1.parameters(),lr=0.3)\n",
        "loss_func = torch.nn.MSELoss()\n",
        "\n",
        "for epoch in range(3):   # train entire dataset 3 times\n",
        "  for step, (batch_x, batch_y) in enumerate(loader):  # for each training step\n",
        "    prediction = net1(batch_x)\n",
        "    loss = loss_func(prediction,batch_y)\n",
        "    optimizer.zero_grad()\n",
        "    loss.backward()\n",
        "    optimizer.step()\n",
        "    print('Epoch: ', epoch, '| Step: ', step, '| batch x: ',batch_x.numpy(), '| batch y: ', batch_y.numpy())"
      ],
      "execution_count": null,
      "outputs": []
    },
    {
      "cell_type": "code",
      "metadata": {
        "id": "LZWHuaWbYes1",
        "colab_type": "code",
        "colab": {
          "base_uri": "https://localhost:8080/",
          "height": 244
        },
        "outputId": "ae497184-46cb-4257-976c-dd2a324d0d1a"
      },
      "source": [
        "import matplotlib.pyplot as plt\n",
        "prediction = net1(x)\n",
        "plt.figure(1, figsize=(10, 3))\n",
        "plt.subplot(131)\n",
        "plt.title('Net1')\n",
        "plt.scatter(x.data.numpy(), y.data.numpy())\n",
        "plt.plot(x.data.numpy(), prediction.data.numpy(), 'r-', lw=5)"
      ],
      "execution_count": 24,
      "outputs": [
        {
          "output_type": "execute_result",
          "data": {
            "text/plain": [
              "[<matplotlib.lines.Line2D at 0x7fe353482c88>]"
            ]
          },
          "metadata": {
            "tags": []
          },
          "execution_count": 24
        },
        {
          "output_type": "display_data",
          "data": {
            "image/png": "[encoded data removed]",
            "text/plain": [
              "<Figure size 720x216 with 1 Axes>"
            ]
          },
          "metadata": {
            "tags": [],
            "needs_background": "light"
          }
        }
      ]
    },
    {
      "cell_type": "code",
      "metadata": {
        "id": "oB4pe34SZDdi",
        "colab_type": "code",
        "colab": {
          "base_uri": "https://localhost:8080/",
          "height": 1000
        },
        "outputId": "c77ae386-ee8b-4cfd-badd-286be719a858"
      },
      "source": [
        "y.data"
      ],
      "execution_count": 21,
      "outputs": [
        {
          "output_type": "execute_result",
          "data": {
            "text/plain": [
              "tensor([[1.0447],\n",
              "        [1.0034],\n",
              "        [1.0667],\n",
              "        [0.9332],\n",
              "        [0.8578],\n",
              "        [0.9481],\n",
              "        [0.9588],\n",
              "        [0.8012],\n",
              "        [0.8435],\n",
              "        [0.7975],\n",
              "        [0.7823],\n",
              "        [0.7694],\n",
              "        [0.6618],\n",
              "        [0.5698],\n",
              "        [0.6953],\n",
              "        [0.5444],\n",
              "        [0.6552],\n",
              "        [0.6192],\n",
              "        [0.5648],\n",
              "        [0.5451],\n",
              "        [0.4839],\n",
              "        [0.4159],\n",
              "        [0.4925],\n",
              "        [0.4216],\n",
              "        [0.3067],\n",
              "        [0.3891],\n",
              "        [0.3514],\n",
              "        [0.2346],\n",
              "        [0.2767],\n",
              "        [0.2799],\n",
              "        [0.2834],\n",
              "        [0.2505],\n",
              "        [0.2841],\n",
              "        [0.2184],\n",
              "        [0.1714],\n",
              "        [0.2840],\n",
              "        [0.1806],\n",
              "        [0.0958],\n",
              "        [0.1975],\n",
              "        [0.1839],\n",
              "        [0.2165],\n",
              "        [0.1402],\n",
              "        [0.2141],\n",
              "        [0.2137],\n",
              "        [0.2014],\n",
              "        [0.0893],\n",
              "        [0.0053],\n",
              "        [0.0857],\n",
              "        [0.1228],\n",
              "        [0.1281],\n",
              "        [0.1966],\n",
              "        [0.0993],\n",
              "        [0.0726],\n",
              "        [0.1106],\n",
              "        [0.1748],\n",
              "        [0.1356],\n",
              "        [0.0758],\n",
              "        [0.0798],\n",
              "        [0.1545],\n",
              "        [0.1201],\n",
              "        [0.2237],\n",
              "        [0.1327],\n",
              "        [0.2343],\n",
              "        [0.2112],\n",
              "        [0.2507],\n",
              "        [0.2652],\n",
              "        [0.2559],\n",
              "        [0.2702],\n",
              "        [0.2395],\n",
              "        [0.2219],\n",
              "        [0.2508],\n",
              "        [0.2964],\n",
              "        [0.2488],\n",
              "        [0.2764],\n",
              "        [0.3690],\n",
              "        [0.3781],\n",
              "        [0.4026],\n",
              "        [0.4182],\n",
              "        [0.4671],\n",
              "        [0.4462],\n",
              "        [0.3903],\n",
              "        [0.5690],\n",
              "        [0.4674],\n",
              "        [0.6192],\n",
              "        [0.4885],\n",
              "        [0.5429],\n",
              "        [0.5455],\n",
              "        [0.5849],\n",
              "        [0.7848],\n",
              "        [0.7632],\n",
              "        [0.7579],\n",
              "        [0.7760],\n",
              "        [0.7979],\n",
              "        [0.8068],\n",
              "        [0.9414],\n",
              "        [1.0012],\n",
              "        [1.0260],\n",
              "        [1.0512],\n",
              "        [1.0523],\n",
              "        [1.1848]])"
            ]
          },
          "metadata": {
            "tags": []
          },
          "execution_count": 21
        }
      ]
    },
    {
      "cell_type": "code",
      "metadata": {
        "id": "BRwBHChbZF2s",
        "colab_type": "code",
        "colab": {
          "base_uri": "https://localhost:8080/",
          "height": 34
        },
        "outputId": "0d954d85-f6fd-405e-b77f-3b347f39eded"
      },
      "source": [
        "y.shape"
      ],
      "execution_count": 15,
      "outputs": [
        {
          "output_type": "execute_result",
          "data": {
            "text/plain": [
              "torch.Size([100, 1])"
            ]
          },
          "metadata": {
            "tags": []
          },
          "execution_count": 15
        }
      ]
    }
  ]
}