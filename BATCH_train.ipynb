{
  "nbformat": 4,
  "nbformat_minor": 0,
  "metadata": {
    "colab": {
      "name": "BATCH_train",
      "provenance": [],
      "collapsed_sections": [],
      "toc_visible": true,
      "authorship_tag": "ABX9TyNGOskCKALHw+wJ3uEiT/+J",
      "include_colab_link": true
    },
    "kernelspec": {
      "name": "python3",
      "display_name": "Python 3"
    }
  },
  "cells": [
    {
      "cell_type": "markdown",
      "metadata": {
        "id": "view-in-github",
        "colab_type": "text"
      },
      "source": [
        "<a href=\"https://colab.research.google.com/github/leoliu5550/colab_for_nn_homework/blob/master/BATCH_train.ipynb\" target=\"_parent\"><img src=\"https://colab.research.google.com/assets/colab-badge.svg\" alt=\"Open In Colab\"/></a>"
      ]
    },
    {
      "cell_type": "markdown",
      "metadata": {
        "id": "14oCwXIgDe9O",
        "colab_type": "text"
      },
      "source": [
        "# 批訓練\n",
        "目的：提升訓練模型的效率\n",
        "\n",
        "[來源解釋](https://ithelp.ithome.com.tw/articles/10219945)"
      ]
    },
    {
      "cell_type": "markdown",
      "metadata": {
        "id": "UjO51TTzEdSm",
        "colab_type": "text"
      },
      "source": [
        "\n",
        "\n",
        "1.   Epoch(一代訓練) ：使用訓練資料集的全部數據進行一次訓練\n",
        "2.   Batch(一批數據) ：使用訓練資料集的一小部分對模型進行一次反向更新\n",
        "3.   Iteration(一次訓練)  ：使用一個Batch的數據進行一次參數更新的過程\n",
        "\n",
        "\n",
        "\n"
      ]
    },
    {
      "cell_type": "code",
      "metadata": {
        "id": "1c8MlGERNfkm",
        "colab_type": "code",
        "colab": {}
      },
      "source": [
        "import torch\n",
        "import torch.utils.data as Data"
      ],
      "execution_count": null,
      "outputs": []
    },
    {
      "cell_type": "markdown",
      "metadata": {
        "id": "eDKn84rhOi8-",
        "colab_type": "text"
      },
      "source": [
        "## Batch = 5 每次只取5筆資料進行更新"
      ]
    },
    {
      "cell_type": "code",
      "metadata": {
        "id": "65yW-vvJNvT5",
        "colab_type": "code",
        "colab": {}
      },
      "source": [
        "BATCH_SIZE=5"
      ],
      "execution_count": null,
      "outputs": []
    },
    {
      "cell_type": "markdown",
      "metadata": {
        "id": "oWqAacDESKuQ",
        "colab_type": "text"
      },
      "source": [
        "## 建立數據"
      ]
    },
    {
      "cell_type": "code",
      "metadata": {
        "id": "I2aEQxtNO0dY",
        "colab_type": "code",
        "colab": {}
      },
      "source": [
        "x = torch.unsqueeze(torch.linspace(-1, 1, 100), dim=1)  # x data (tensor), shape=(100, 1)\n",
        "y = x.pow(2) + 0.2*torch.rand(x.size())  # noisy y data (tensor), shape=(100, 1)"
      ],
      "execution_count": null,
      "outputs": []
    },
    {
      "cell_type": "markdown",
      "metadata": {
        "id": "lXQx4bQWTH6z",
        "colab_type": "text"
      },
      "source": [
        "## 資料放入Batch中\n",
        "[詳細參數設定](https://zhuanlan.zhihu.com/p/117270644)"
      ]
    },
    {
      "cell_type": "code",
      "metadata": {
        "id": "2e48NGy8TGCT",
        "colab_type": "code",
        "colab": {}
      },
      "source": [
        "torch_dataset = Data.TensorDataset(x, y)\n",
        "loader = Data.DataLoader(\n",
        "    dataset=torch_dataset,      # torch TensorDataset format\n",
        "    batch_size=BATCH_SIZE,      # mini batch size\n",
        "    shuffle=True,           # random shuffle for training\n",
        "    num_workers=2,          # subprocesses for loading data 提取出數據時，是用兩個進程來提取\n",
        ")"
      ],
      "execution_count": null,
      "outputs": []
    },
    {
      "cell_type": "markdown",
      "metadata": {
        "id": "eVOkV_6MSYlA",
        "colab_type": "text"
      },
      "source": [
        "# 建立神經網路"
      ]
    },
    {
      "cell_type": "code",
      "metadata": {
        "id": "n96xLg-hSXtB",
        "colab_type": "code",
        "colab": {}
      },
      "source": [
        "net1 = torch.nn.Sequential(\n",
        "    torch.nn.Linear(1,10),\n",
        "    torch.nn.ReLU(),\n",
        "    torch.nn.Linear(10,1)\n",
        ")"
      ],
      "execution_count": null,
      "outputs": []
    },
    {
      "cell_type": "markdown",
      "metadata": {
        "id": "d3P6Yw8wX-dl",
        "colab_type": "text"
      },
      "source": [
        "# 訓練神經網路"
      ]
    },
    {
      "cell_type": "code",
      "metadata": {
        "id": "IxQb_U_7X-ML",
        "colab_type": "code",
        "colab": {}
      },
      "source": [
        "optimizer = torch.optim.SGD(net1.parameters(),lr=0.3)\n",
        "loss_func = torch.nn.MSELoss()\n",
        "#訓練3*[(20=100/5)*5]筆資料\n",
        "for epoch in range(3):   # train entire dataset 3 times\n",
        "  for step, (batch_x, batch_y) in enumerate(loader):  # for each training step\n",
        "    prediction = net1(batch_x)\n",
        "    loss = loss_func(prediction,batch_y)\n",
        "    optimizer.zero_grad()\n",
        "    loss.backward()\n",
        "    optimizer.step()\n",
        "    #print('Epoch: ', epoch, '| Step: ', step, '| batch x: ',batch_x.numpy(), '| batch y: ', batch_y.numpy())"
      ],
      "execution_count": null,
      "outputs": []
    },
    {
      "cell_type": "code",
      "metadata": {
        "id": "LZWHuaWbYes1",
        "colab_type": "code",
        "colab": {
          "base_uri": "https://localhost:8080/",
          "height": 244
        },
        "outputId": "90124b7d-6ef5-4793-8753-03e54fa1f6ba"
      },
      "source": [
        "import matplotlib.pyplot as plt\n",
        "prediction = net1(x)\n",
        "plt.figure(1, figsize=(10, 3))\n",
        "plt.subplot(131)\n",
        "plt.title('Net1')\n",
        "plt.scatter(x.data.numpy(), y.data.numpy())\n",
        "plt.plot(x.data.numpy(), prediction.data.numpy(), 'r-', lw=5)"
      ],
      "execution_count": null,
      "outputs": [
        {
          "output_type": "execute_result",
          "data": {
            "text/plain": [
              "[<matplotlib.lines.Line2D at 0x7f69b7852668>]"
            ]
          },
          "metadata": {
            "tags": []
          },
          "execution_count": 39
        },
        {
          "output_type": "display_data",
          "data": {
            "image/png": "[encoded data removed]",
            "text/plain": [
              "<Figure size 720x216 with 1 Axes>"
            ]
          },
          "metadata": {
            "tags": [],
            "needs_background": "light"
          }
        }
      ]
    },
    {
      "cell_type": "markdown",
      "metadata": {
        "id": "m2TvdcvGmiuc",
        "colab_type": "text"
      },
      "source": [
        "# 使用批訓練建模的MSE和100次全建模比較"
      ]
    },
    {
      "cell_type": "code",
      "metadata": {
        "id": "BRwBHChbZF2s",
        "colab_type": "code",
        "colab": {}
      },
      "source": [
        "#計算MSE\n",
        "prediction = net1(x)\n",
        "#prediction.detach().numpy() 預測\n",
        "#y.detach().numpy()      Ans"
      ],
      "execution_count": null,
      "outputs": []
    },
    {
      "cell_type": "markdown",
      "metadata": {
        "id": "YGiPDGNnmzkg",
        "colab_type": "text"
      },
      "source": [
        "### 批建模MSE"
      ]
    },
    {
      "cell_type": "code",
      "metadata": {
        "id": "6afmJQvzkqL1",
        "colab_type": "code",
        "colab": {}
      },
      "source": [
        "def MSE_calculate(list1,list2):\n",
        "  MSE=0\n",
        "  for i in range(len(list1)):\n",
        "    MSE=MSE+(list1[i]-list2[i])**2\n",
        "  return MSE"
      ],
      "execution_count": null,
      "outputs": []
    },
    {
      "cell_type": "code",
      "metadata": {
        "id": "9Aypshn-l1LS",
        "colab_type": "code",
        "colab": {
          "base_uri": "https://localhost:8080/",
          "height": 34
        },
        "outputId": "0939901b-63c0-43d4-9197-239b176c02c8"
      },
      "source": [
        "MSE_calculate(y.detach().numpy(),prediction.detach().numpy())"
      ],
      "execution_count": null,
      "outputs": [
        {
          "output_type": "execute_result",
          "data": {
            "text/plain": [
              "array([1.3833551], dtype=float32)"
            ]
          },
          "metadata": {
            "tags": []
          },
          "execution_count": 36
        }
      ]
    },
    {
      "cell_type": "markdown",
      "metadata": {
        "id": "AeglHTOFomoi",
        "colab_type": "text"
      },
      "source": [
        "# 用上次的NN試試比較結果"
      ]
    },
    {
      "cell_type": "code",
      "metadata": {
        "id": "f546rOg3ol6f",
        "colab_type": "code",
        "colab": {}
      },
      "source": [
        "net2 = torch.nn.Sequential(\n",
        "    torch.nn.Linear(1,10),\n",
        "    torch.nn.ReLU(),\n",
        "    torch.nn.Linear(10,1)\n",
        ")\n",
        "optimizer = torch.optim.SGD(net2.parameters(),lr=0.3)\n",
        "loss_func = torch.nn.MSELoss()\n",
        "#訓練3*[(20=100/5)*5]筆資料\n",
        "for epoch in range(100):   # train entire dataset 3 times\n",
        "  prediction = net2(x)\n",
        "  loss = loss_func(prediction,y)\n",
        "  optimizer.zero_grad()\n",
        "  loss.backward()\n",
        "  optimizer.step()"
      ],
      "execution_count": null,
      "outputs": []
    },
    {
      "cell_type": "code",
      "metadata": {
        "id": "ZI5SB4o415BC",
        "colab_type": "code",
        "colab": {
          "base_uri": "https://localhost:8080/",
          "height": 244
        },
        "outputId": "40383a1e-1bb2-47e1-e19a-c9fb6746e863"
      },
      "source": [
        "prediction = net2(x)\n",
        "plt.figure(1, figsize=(10, 3))\n",
        "plt.subplot(131)\n",
        "plt.title('Net1')\n",
        "plt.scatter(x.data.numpy(), y.data.numpy())\n",
        "plt.plot(x.data.numpy(), prediction.data.numpy(), 'r-', lw=5)"
      ],
      "execution_count": 45,
      "outputs": [
        {
          "output_type": "execute_result",
          "data": {
            "text/plain": [
              "[<matplotlib.lines.Line2D at 0x7f69b77a77f0>]"
            ]
          },
          "metadata": {
            "tags": []
          },
          "execution_count": 45
        },
        {
          "output_type": "display_data",
          "data": {
            "image/png": "[encoded data removed]",
            "text/plain": [
              "<Figure size 720x216 with 1 Axes>"
            ]
          },
          "metadata": {
            "tags": [],
            "needs_background": "light"
          }
        }
      ]
    },
    {
      "cell_type": "code",
      "metadata": {
        "id": "VQdwbfldpYbJ",
        "colab_type": "code",
        "colab": {
          "base_uri": "https://localhost:8080/",
          "height": 34
        },
        "outputId": "36d977c6-5fbb-4e7c-bf37-415d86b5b7bc"
      },
      "source": [
        "prediction = net2(x)\n",
        "MSE_calculate(y.detach().numpy(),prediction.detach().numpy())"
      ],
      "execution_count": null,
      "outputs": [
        {
          "output_type": "execute_result",
          "data": {
            "text/plain": [
              "array([0.51487666], dtype=float32)"
            ]
          },
          "metadata": {
            "tags": []
          },
          "execution_count": 44
        }
      ]
    }
  ]
}