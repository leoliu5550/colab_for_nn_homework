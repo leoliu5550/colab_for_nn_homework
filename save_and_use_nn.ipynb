{
  "nbformat": 4,
  "nbformat_minor": 0,
  "metadata": {
    "colab": {
      "name": "save_and_use_nn",
      "provenance": [],
      "collapsed_sections": [],
      "toc_visible": true,
      "mount_file_id": "1s6X5W9sw_bK1pq0KbBQouUsfz92ap1jr",
      "authorship_tag": "ABX9TyOSuSsKGqay9r7daBffbQVq",
      "include_colab_link": true
    },
    "kernelspec": {
      "name": "python3",
      "display_name": "Python 3"
    }
  },
  "cells": [
    {
      "cell_type": "markdown",
      "metadata": {
        "id": "view-in-github",
        "colab_type": "text"
      },
      "source": [
        "<a href=\"https://colab.research.google.com/github/leoliu5550/colab_for_nn_homework/blob/master/save_and_use_nn.ipynb\" target=\"_parent\"><img src=\"https://colab.research.google.com/assets/colab-badge.svg\" alt=\"Open In Colab\"/></a>"
      ]
    },
    {
      "cell_type": "code",
      "metadata": {
        "id": "V5t3wJz_cwG3",
        "colab_type": "code",
        "colab": {}
      },
      "source": [
        "import torch\n",
        "import matplotlib.pyplot as plt"
      ],
      "execution_count": 44,
      "outputs": []
    },
    {
      "cell_type": "markdown",
      "metadata": {
        "id": "QVXARp7XchRY",
        "colab_type": "text"
      },
      "source": [
        "# Create DATA set"
      ]
    },
    {
      "cell_type": "code",
      "metadata": {
        "id": "JaHA6awecvAZ",
        "colab_type": "code",
        "colab": {}
      },
      "source": [
        "x = torch.unsqueeze(torch.linspace(-1, 1, 100), dim=1)  # x data (tensor), shape=(100, 1)\n",
        "y = x.pow(2) + 0.2*torch.rand(x.size())  # noisy y data (tensor), shape=(100, 1)"
      ],
      "execution_count": 45,
      "outputs": []
    },
    {
      "cell_type": "markdown",
      "metadata": {
        "id": "P0rmQW9FishP",
        "colab_type": "text"
      },
      "source": [
        "## 訓練一個神經網路net1"
      ]
    },
    {
      "cell_type": "code",
      "metadata": {
        "id": "Zo7aBWY3cq2K",
        "colab_type": "code",
        "colab": {}
      },
      "source": [
        "net1 = torch.nn.Sequential(\n",
        "    torch.nn.Linear(1,10),\n",
        "    torch.nn.ReLU(),\n",
        "    torch.nn.Linear(10,1)\n",
        ")"
      ],
      "execution_count": 46,
      "outputs": []
    },
    {
      "cell_type": "code",
      "metadata": {
        "id": "qmWCrrT8kdh-",
        "colab_type": "code",
        "colab": {}
      },
      "source": [
        "#訓練100次\n",
        "optimizer = torch.optim.SGD(net1.parameters(),lr=0.3)\n",
        "loss_func = torch.nn.MSELoss()\n",
        "\n",
        "for t in range(100):\n",
        "  prediction = net1(x)\n",
        "  loss = loss_func(prediction,y)\n",
        "  optimizer.zero_grad()\n",
        "  loss.backward()\n",
        "  optimizer.step()"
      ],
      "execution_count": 47,
      "outputs": []
    },
    {
      "cell_type": "markdown",
      "metadata": {
        "id": "9SvZ7ulZlvBS",
        "colab_type": "text"
      },
      "source": [
        "## 可視化net1模型"
      ]
    },
    {
      "cell_type": "code",
      "metadata": {
        "id": "6reJA2cyl3sV",
        "colab_type": "code",
        "colab": {
          "base_uri": "https://localhost:8080/",
          "height": 244
        },
        "outputId": "c73e2884-e784-4150-ec11-e9bdb0ee2d2f"
      },
      "source": [
        "plt.figure(1, figsize=(10, 3))\n",
        "plt.subplot(131)\n",
        "plt.title('Net1')\n",
        "plt.scatter(x.data.numpy(), y.data.numpy())\n",
        "plt.plot(x.data.numpy(), prediction.data.numpy(), 'r-', lw=5)"
      ],
      "execution_count": 54,
      "outputs": [
        {
          "output_type": "execute_result",
          "data": {
            "text/plain": [
              "[<matplotlib.lines.Line2D at 0x7fadf572c208>]"
            ]
          },
          "metadata": {
            "tags": []
          },
          "execution_count": 54
        },
        {
          "output_type": "display_data",
          "data": {
            "image/png": "[encoded data removed]",
            "text/plain": [
              "<Figure size 720x216 with 1 Axes>"
            ]
          },
          "metadata": {
            "tags": [],
            "needs_background": "light"
          }
        }
      ]
    },
    {
      "cell_type": "markdown",
      "metadata": {
        "id": "MCWsLFfQolLP",
        "colab_type": "text"
      },
      "source": [
        "# 儲存模型 2種方法"
      ]
    },
    {
      "cell_type": "code",
      "metadata": {
        "id": "eiXyuPpPsZ5h",
        "colab_type": "code",
        "colab": {}
      },
      "source": [
        "import os\n",
        "os.chdir('/content/drive/My Drive/ML_assets')"
      ],
      "execution_count": 50,
      "outputs": []
    },
    {
      "cell_type": "markdown",
      "metadata": {
        "id": "VAJhh-963KT4",
        "colab_type": "text"
      },
      "source": [
        "## 方法一 存整個NN模型下去 pkl檔案\n"
      ]
    },
    {
      "cell_type": "code",
      "metadata": {
        "id": "HhjFg_25ovQ4",
        "colab_type": "code",
        "colab": {}
      },
      "source": [
        "torch.save(net1, 'net.pkl')"
      ],
      "execution_count": 51,
      "outputs": []
    },
    {
      "cell_type": "markdown",
      "metadata": {
        "id": "0bVB-d7i3NKc",
        "colab_type": "text"
      },
      "source": [
        "## 方法二 存節點間的參數\n",
        "Load時候需要建立一毛一樣的NN，但是導入時比較快"
      ]
    },
    {
      "cell_type": "code",
      "metadata": {
        "id": "7fAydm-m2BYe",
        "colab_type": "code",
        "colab": {}
      },
      "source": [
        "torch.save(net1.state_dict(), 'net_params.pkl')"
      ],
      "execution_count": 52,
      "outputs": []
    },
    {
      "cell_type": "markdown",
      "metadata": {
        "id": "x6FaX0ZA3BGV",
        "colab_type": "text"
      },
      "source": [
        "# 載入上次訓練模型"
      ]
    },
    {
      "cell_type": "markdown",
      "metadata": {
        "id": "kBiS3Kpo442M",
        "colab_type": "text"
      },
      "source": [
        "## 方法1"
      ]
    },
    {
      "cell_type": "code",
      "metadata": {
        "id": "JeK7dX392tEf",
        "colab_type": "code",
        "colab": {
          "base_uri": "https://localhost:8080/",
          "height": 244
        },
        "outputId": "e79329a7-6046-468e-9d2d-93210e3ce5fd"
      },
      "source": [
        "net2=torch.load('net.pkl')\n",
        "prediction = net2(x)\n",
        "#視覺化\n",
        "plt.figure(2, figsize=(10, 3))\n",
        "plt.subplot(132)\n",
        "plt.title('Net2')\n",
        "plt.scatter(x.data.numpy(), y.data.numpy())\n",
        "plt.plot(x.data.numpy(), prediction.data.numpy(), 'r-', lw=5)"
      ],
      "execution_count": 56,
      "outputs": [
        {
          "output_type": "execute_result",
          "data": {
            "text/plain": [
              "[<matplotlib.lines.Line2D at 0x7fadf56634e0>]"
            ]
          },
          "metadata": {
            "tags": []
          },
          "execution_count": 56
        },
        {
          "output_type": "display_data",
          "data": {
            "image/png": "[encoded data removed]",
            "text/plain": [
              "<Figure size 720x216 with 1 Axes>"
            ]
          },
          "metadata": {
            "tags": [],
            "needs_background": "light"
          }
        }
      ]
    },
    {
      "cell_type": "markdown",
      "metadata": {
        "id": "q0A7BcoA48SN",
        "colab_type": "text"
      },
      "source": [
        "## 方法2"
      ]
    },
    {
      "cell_type": "code",
      "metadata": {
        "id": "vH26Wx7a4-uQ",
        "colab_type": "code",
        "colab": {
          "base_uri": "https://localhost:8080/",
          "height": 244
        },
        "outputId": "b4694263-3be8-494c-9e97-25c4ebf5ab44"
      },
      "source": [
        "#建立和上次一樣的模型\n",
        "net3 = torch.nn.Sequential(\n",
        "    torch.nn.Linear(1,10),\n",
        "    torch.nn.ReLU(),\n",
        "    torch.nn.Linear(10,1)\n",
        ")\n",
        "\n",
        "# 放入上次存的權重\n",
        "net3.load_state_dict(torch.load('net_params.pkl'))\n",
        "prediction = net3(x)\n",
        "\n",
        "#視覺化\n",
        "plt.figure(3, figsize=(10, 3))\n",
        "plt.subplot(133)\n",
        "plt.title('Net3')\n",
        "plt.scatter(x.data.numpy(), y.data.numpy())\n",
        "plt.plot(x.data.numpy(), prediction.data.numpy(), 'r-', lw=5)"
      ],
      "execution_count": 59,
      "outputs": [
        {
          "output_type": "execute_result",
          "data": {
            "text/plain": [
              "[<matplotlib.lines.Line2D at 0x7fadf561f8d0>]"
            ]
          },
          "metadata": {
            "tags": []
          },
          "execution_count": 59
        },
        {
          "output_type": "display_data",
          "data": {
            "image/png": "[encoded data removed]",
            "text/plain": [
              "<Figure size 720x216 with 1 Axes>"
            ]
          },
          "metadata": {
            "tags": [],
            "needs_background": "light"
          }
        }
      ]
    },
    {
      "cell_type": "markdown",
      "metadata": {
        "id": "Nx4R0QUP50sC",
        "colab_type": "text"
      },
      "source": [
        "# 三種視覺化一起看"
      ]
    },
    {
      "cell_type": "code",
      "metadata": {
        "id": "QPMkbE8q5-0B",
        "colab_type": "code",
        "colab": {
          "base_uri": "https://localhost:8080/",
          "height": 244
        },
        "outputId": "0385cf2b-3762-4dff-c3d9-41a161757357"
      },
      "source": [
        "#net1\n",
        "plt.figure(1, figsize=(10, 3))\n",
        "plt.subplot(131)\n",
        "plt.title('Net1')\n",
        "plt.scatter(x.data.numpy(), y.data.numpy())\n",
        "plt.plot(x.data.numpy(), prediction.data.numpy(), 'r-', lw=5)\n",
        "#net2\n",
        "plt.subplot(132)\n",
        "plt.title('Net2')\n",
        "plt.scatter(x.data.numpy(), y.data.numpy())\n",
        "plt.plot(x.data.numpy(), prediction.data.numpy(), 'r-', lw=5)\n",
        "#net3\n",
        "plt.subplot(133)\n",
        "plt.title('Net3')\n",
        "plt.scatter(x.data.numpy(), y.data.numpy())\n",
        "plt.plot(x.data.numpy(), prediction.data.numpy(), 'r-', lw=5)\n",
        "plt.show"
      ],
      "execution_count": 61,
      "outputs": [
        {
          "output_type": "execute_result",
          "data": {
            "text/plain": [
              "<function matplotlib.pyplot.show>"
            ]
          },
          "metadata": {
            "tags": []
          },
          "execution_count": 61
        },
        {
          "output_type": "display_data",
          "data": {
            "image/png": "[encoded data removed]",
            "text/plain": [
              "<Figure size 720x216 with 3 Axes>"
            ]
          },
          "metadata": {
            "tags": [],
            "needs_background": "light"
          }
        }
      ]
    }
  ]
}